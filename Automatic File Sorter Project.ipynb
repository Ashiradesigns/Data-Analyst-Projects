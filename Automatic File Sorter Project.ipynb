{
 "cells": [
  {
   "cell_type": "code",
   "execution_count": 2,
   "metadata": {},
   "outputs": [],
   "source": [
    "import os, shutil"
   ]
  },
  {
   "cell_type": "code",
   "execution_count": 7,
   "metadata": {},
   "outputs": [],
   "source": [
    "path = r'c:/Users/AYODELE VICTORIA/Documents/New folder/'"
   ]
  },
  {
   "cell_type": "code",
   "execution_count": 10,
   "metadata": {},
   "outputs": [],
   "source": [
    "file_name = os.listdir(path)"
   ]
  },
  {
   "cell_type": "code",
   "execution_count": null,
   "metadata": {},
   "outputs": [],
   "source": [
    "folder_names = ['csv files', 'doc files', 'pdf files', 'xlsx files', 'ppt files', 'pbix files', 'rtf files'] \n",
    "\n",
    "for loop in range(0,7):\n",
    "    if not os.path.exists(path + folder_names[loop]):\n",
    "        print(path + folder_names[loop])\n",
    "        os.makedirs(path + folder_names[loop])"
   ]
  },
  {
   "cell_type": "code",
   "execution_count": null,
   "metadata": {},
   "outputs": [],
   "source": [
    "for file in file_name:\n",
    "    if '.csv' in file and not os.path.exists(path + 'csv files/' + file):\n",
    "        shutil.move(path + file, path + 'csv files/' + file)\n",
    "    elif '.doc' in file and not os.path.exists(path + 'doc files/' + file):\n",
    "        shutil.move(path + file, path + 'doc files/' + file)\n",
    "    elif '.pdf' in file and not os.path.exists(path + 'pdf files/' + file):\n",
    "        shutil.move(path + file, path + 'pdf files/' + file)\n",
    "    elif '.xlsx' in file and not os.path.exists(path + 'xlsx files/' + file):\n",
    "        shutil.move(path + file, path + 'xlsx files/' + file)\n",
    "    elif '.ppt' in file and not os.path.exists(path + 'ppt files/' + file):\n",
    "        shutil.move(path + file, path + 'ppt files/' + file)\n",
    "    elif '.pbix' in file and not os.path.exists(path + 'pbix files/' + file):\n",
    "        shutil.move(path + file, path + 'pbix files/' + file)\n",
    "    elif '.rtf' in file and not os.path.exists(path + 'rtf files/' + file):\n",
    "        shutil.move(path + file, path + 'rtf files/' + file)\n",
    "   \n"
   ]
  }
 ],
 "metadata": {
  "kernelspec": {
   "display_name": "Python 3",
   "language": "python",
   "name": "python3"
  },
  "language_info": {
   "codemirror_mode": {
    "name": "ipython",
    "version": 3
   },
   "file_extension": ".py",
   "mimetype": "text/x-python",
   "name": "python",
   "nbconvert_exporter": "python",
   "pygments_lexer": "ipython3",
   "version": "3.10.4"
  }
 },
 "nbformat": 4,
 "nbformat_minor": 2
}
